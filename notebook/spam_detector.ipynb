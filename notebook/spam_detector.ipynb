{
 "cells": [
  {
   "cell_type": "markdown",
   "id": "9cdba905",
   "metadata": {},
   "source": [
    "# Email Spam Detection using Artificial Intelligence and Machine Learning\n",
    "\n"
   ]
  },
  {
   "cell_type": "markdown",
   "id": "ce4e4830",
   "metadata": {},
   "source": [
    "In this project I am utilizing Python to create a spam email detection system.\n",
    "The objective is to create a Python-based program that will ingest email from a data set. The program will preprocess the data by removing HTML tags, tokenizing the text, and reducing words to their root form. The program will then leverage a machine learning algorithm to evaluate the data and determine the likelihood that the email is spam.\n",
    "\n",
    "I am following the standard data science protocol from data acquisition, preprocessing, feature extraction, model training, evaluation and making predictions.\n"
   ]
  },
  {
   "cell_type": "markdown",
   "id": "eb7b7eb0",
   "metadata": {},
   "source": [
    "#### Lets get started!"
   ]
  },
  {
   "cell_type": "code",
   "execution_count": 98,
   "id": "d1c8eb20",
   "metadata": {
    "ExecuteTime": {
     "end_time": "2024-09-25T01:00:52.987389Z",
     "start_time": "2024-09-25T01:00:51.043222Z"
    }
   },
   "outputs": [
    {
     "name": "stdout",
     "output_type": "stream",
     "text": [
      "Requirement already satisfied: seaborn in /Users/sumanbhandari/Desktop/GitHubProjects/Spam Detector/.venv/lib/python3.12/site-packages (0.13.2)\r\n",
      "Requirement already satisfied: numpy!=1.24.0,>=1.20 in /Users/sumanbhandari/Desktop/GitHubProjects/Spam Detector/.venv/lib/python3.12/site-packages (from seaborn) (2.1.1)\r\n",
      "Requirement already satisfied: pandas>=1.2 in /Users/sumanbhandari/Desktop/GitHubProjects/Spam Detector/.venv/lib/python3.12/site-packages (from seaborn) (2.2.3)\r\n",
      "Requirement already satisfied: matplotlib!=3.6.1,>=3.4 in /Users/sumanbhandari/Desktop/GitHubProjects/Spam Detector/.venv/lib/python3.12/site-packages (from seaborn) (3.9.2)\r\n",
      "Requirement already satisfied: contourpy>=1.0.1 in /Users/sumanbhandari/Desktop/GitHubProjects/Spam Detector/.venv/lib/python3.12/site-packages (from matplotlib!=3.6.1,>=3.4->seaborn) (1.3.0)\r\n",
      "Requirement already satisfied: cycler>=0.10 in /Users/sumanbhandari/Desktop/GitHubProjects/Spam Detector/.venv/lib/python3.12/site-packages (from matplotlib!=3.6.1,>=3.4->seaborn) (0.12.1)\r\n",
      "Requirement already satisfied: fonttools>=4.22.0 in /Users/sumanbhandari/Desktop/GitHubProjects/Spam Detector/.venv/lib/python3.12/site-packages (from matplotlib!=3.6.1,>=3.4->seaborn) (4.54.0)\r\n",
      "Requirement already satisfied: kiwisolver>=1.3.1 in /Users/sumanbhandari/Desktop/GitHubProjects/Spam Detector/.venv/lib/python3.12/site-packages (from matplotlib!=3.6.1,>=3.4->seaborn) (1.4.7)\r\n",
      "Requirement already satisfied: packaging>=20.0 in /Users/sumanbhandari/Desktop/GitHubProjects/Spam Detector/.venv/lib/python3.12/site-packages (from matplotlib!=3.6.1,>=3.4->seaborn) (24.1)\r\n",
      "Requirement already satisfied: pillow>=8 in /Users/sumanbhandari/Desktop/GitHubProjects/Spam Detector/.venv/lib/python3.12/site-packages (from matplotlib!=3.6.1,>=3.4->seaborn) (10.4.0)\r\n",
      "Requirement already satisfied: pyparsing>=2.3.1 in /Users/sumanbhandari/Desktop/GitHubProjects/Spam Detector/.venv/lib/python3.12/site-packages (from matplotlib!=3.6.1,>=3.4->seaborn) (3.1.4)\r\n",
      "Requirement already satisfied: python-dateutil>=2.7 in /Users/sumanbhandari/Desktop/GitHubProjects/Spam Detector/.venv/lib/python3.12/site-packages (from matplotlib!=3.6.1,>=3.4->seaborn) (2.9.0.post0)\r\n",
      "Requirement already satisfied: pytz>=2020.1 in /Users/sumanbhandari/Desktop/GitHubProjects/Spam Detector/.venv/lib/python3.12/site-packages (from pandas>=1.2->seaborn) (2024.2)\r\n",
      "Requirement already satisfied: tzdata>=2022.7 in /Users/sumanbhandari/Desktop/GitHubProjects/Spam Detector/.venv/lib/python3.12/site-packages (from pandas>=1.2->seaborn) (2024.2)\r\n",
      "Requirement already satisfied: six>=1.5 in /Users/sumanbhandari/Desktop/GitHubProjects/Spam Detector/.venv/lib/python3.12/site-packages (from python-dateutil>=2.7->matplotlib!=3.6.1,>=3.4->seaborn) (1.16.0)\r\n",
      "Requirement already satisfied: nltk in /Users/sumanbhandari/Desktop/GitHubProjects/Spam Detector/.venv/lib/python3.12/site-packages (3.9.1)\r\n",
      "Requirement already satisfied: click in /Users/sumanbhandari/Desktop/GitHubProjects/Spam Detector/.venv/lib/python3.12/site-packages (from nltk) (8.1.7)\r\n",
      "Requirement already satisfied: joblib in /Users/sumanbhandari/Desktop/GitHubProjects/Spam Detector/.venv/lib/python3.12/site-packages (from nltk) (1.4.2)\r\n",
      "Requirement already satisfied: regex>=2021.8.3 in /Users/sumanbhandari/Desktop/GitHubProjects/Spam Detector/.venv/lib/python3.12/site-packages (from nltk) (2024.9.11)\r\n",
      "Requirement already satisfied: tqdm in /Users/sumanbhandari/Desktop/GitHubProjects/Spam Detector/.venv/lib/python3.12/site-packages (from nltk) (4.66.5)\r\n",
      "Requirement already satisfied: scikit-learn in /Users/sumanbhandari/Desktop/GitHubProjects/Spam Detector/.venv/lib/python3.12/site-packages (1.5.2)\r\n",
      "Requirement already satisfied: numpy>=1.19.5 in /Users/sumanbhandari/Desktop/GitHubProjects/Spam Detector/.venv/lib/python3.12/site-packages (from scikit-learn) (2.1.1)\r\n",
      "Requirement already satisfied: scipy>=1.6.0 in /Users/sumanbhandari/Desktop/GitHubProjects/Spam Detector/.venv/lib/python3.12/site-packages (from scikit-learn) (1.14.1)\r\n",
      "Requirement already satisfied: joblib>=1.2.0 in /Users/sumanbhandari/Desktop/GitHubProjects/Spam Detector/.venv/lib/python3.12/site-packages (from scikit-learn) (1.4.2)\r\n",
      "Requirement already satisfied: threadpoolctl>=3.1.0 in /Users/sumanbhandari/Desktop/GitHubProjects/Spam Detector/.venv/lib/python3.12/site-packages (from scikit-learn) (3.5.0)\r\n"
     ]
    }
   ],
   "source": [
    "# Importing necessary libraries over here\n",
    "\n",
    "!pip install seaborn\n",
    "!pip install nltk\n",
    "!pip install scikit-learn\n",
    "\n",
    "# Pandas for data manipulation\n",
    "import pandas as pd\n",
    "import numpy as np\n",
    "\n",
    "\n",
    "\n",
    "\n",
    "# for data visualization\n",
    "import seaborn as sns\n",
    "import matplotlib.pyplot as plt\n",
    "\n",
    "# NLTK for text preprocessing tasks like tokenization and stop word removal\n",
    "import csv \n",
    "import string\n",
    "import nltk\n",
    "from nltk.tokenize import word_tokenize\n",
    "\n",
    "from collections import Counter\n",
    "import matplotlib.pyplot as plt\n",
    "\n",
    "\n",
    "# Scikit-learn for machine learning algorithms\n",
    "from sklearn.feature_extraction.text import CountVectorizer\n",
    "from sklearn.model_selection import train_test_split\n",
    "from sklearn.neural_network import MLPClassifier\n",
    "from sklearn.feature_extraction.text import TfidfVectorizer\n",
    "from sklearn.linear_model import LogisticRegression\n",
    "from sklearn.metrics import accuracy_score, confusion_matrix, roc_curve, roc_auc_score\n",
    "from sklearn.naive_bayes import MultinomialNB\n",
    "\n",
    "from sklearn.naive_bayes import BernoulliNB\n",
    "from sklearn.metrics import accuracy_score, precision_score, recall_score, f1_score"
   ]
  },
  {
   "cell_type": "code",
   "execution_count": 99,
   "id": "4d946352",
   "metadata": {
    "ExecuteTime": {
     "end_time": "2024-09-25T01:00:53.004919Z",
     "start_time": "2024-09-25T01:00:52.989609Z"
    }
   },
   "outputs": [],
   "source": [
    "\n",
    "# Read the dataset\n",
    "df = pd.read_csv('data/mail_data.csv')"
   ]
  },
  {
   "cell_type": "code",
   "execution_count": 100,
   "id": "d4c8b83d",
   "metadata": {
    "ExecuteTime": {
     "end_time": "2024-09-25T01:00:53.034642Z",
     "start_time": "2024-09-25T01:00:53.007303Z"
    }
   },
   "outputs": [
    {
     "data": {
      "text/plain": "(5572, 2)"
     },
     "execution_count": 100,
     "metadata": {},
     "output_type": "execute_result"
    }
   ],
   "source": [
    "df.shape"
   ]
  },
  {
   "cell_type": "code",
   "execution_count": 101,
   "id": "a750135b",
   "metadata": {
    "ExecuteTime": {
     "end_time": "2024-09-25T01:00:53.050149Z",
     "start_time": "2024-09-25T01:00:53.017911Z"
    }
   },
   "outputs": [
    {
     "data": {
      "text/plain": "       Category                 Message\ncount      5572                    5572\nunique        2                    5157\ntop         ham  Sorry, I'll call later\nfreq       4825                      30",
      "text/html": "<div>\n<style scoped>\n    .dataframe tbody tr th:only-of-type {\n        vertical-align: middle;\n    }\n\n    .dataframe tbody tr th {\n        vertical-align: top;\n    }\n\n    .dataframe thead th {\n        text-align: right;\n    }\n</style>\n<table border=\"1\" class=\"dataframe\">\n  <thead>\n    <tr style=\"text-align: right;\">\n      <th></th>\n      <th>Category</th>\n      <th>Message</th>\n    </tr>\n  </thead>\n  <tbody>\n    <tr>\n      <th>count</th>\n      <td>5572</td>\n      <td>5572</td>\n    </tr>\n    <tr>\n      <th>unique</th>\n      <td>2</td>\n      <td>5157</td>\n    </tr>\n    <tr>\n      <th>top</th>\n      <td>ham</td>\n      <td>Sorry, I'll call later</td>\n    </tr>\n    <tr>\n      <th>freq</th>\n      <td>4825</td>\n      <td>30</td>\n    </tr>\n  </tbody>\n</table>\n</div>"
     },
     "execution_count": 101,
     "metadata": {},
     "output_type": "execute_result"
    }
   ],
   "source": [
    "df.describe()"
   ]
  },
  {
   "cell_type": "code",
   "execution_count": 102,
   "id": "e5184e63",
   "metadata": {
    "ExecuteTime": {
     "end_time": "2024-09-25T01:00:53.051845Z",
     "start_time": "2024-09-25T01:00:53.020625Z"
    }
   },
   "outputs": [
    {
     "data": {
      "text/plain": "Category    0\nMessage     0\ndtype: int64"
     },
     "execution_count": 102,
     "metadata": {},
     "output_type": "execute_result"
    }
   ],
   "source": [
    "df.isnull().sum()"
   ]
  },
  {
   "cell_type": "markdown",
   "id": "790e6a27",
   "metadata": {},
   "source": [
    "Data Visualization"
   ]
  },
  {
   "cell_type": "code",
   "execution_count": 103,
   "id": "60f39358",
   "metadata": {
    "ExecuteTime": {
     "end_time": "2024-09-25T01:00:53.143255Z",
     "start_time": "2024-09-25T01:00:53.026216Z"
    }
   },
   "outputs": [
    {
     "data": {
      "text/plain": "<Figure size 640x480 with 1 Axes>",
      "image/png": "[encoded data removed]"
     },
     "metadata": {},
     "output_type": "display_data"
    }
   ],
   "source": [
    "sns.countplot(data=df, x='Category')\n",
    "plt.xlabel('Category')\n",
    "plt.ylabel('count')\n",
    "plt.title('Distribution of mails')\n",
    "plt.show()"
   ]
  },
  {
   "cell_type": "code",
   "execution_count": 104,
   "id": "e36f449f",
   "metadata": {
    "scrolled": true,
    "ExecuteTime": {
     "end_time": "2024-09-25T01:00:53.561571Z",
     "start_time": "2024-09-25T01:00:53.114660Z"
    }
   },
   "outputs": [
    {
     "data": {
      "text/plain": "<Figure size 640x480 with 1 Axes>",
      "image/png": "[encoded data removed]"
     },
     "metadata": {},
     "output_type": "display_data"
    }
   ],
   "source": [
    "plt.pie(df['Category'].value_counts(),labels=['ham','spam'],autopct='%0.2f')\n",
    "plt.show()"
   ]
  },
  {
   "cell_type": "markdown",
   "id": "e506217e",
   "metadata": {},
   "source": [
    "Data Preprocessing"
   ]
  },
  {
   "cell_type": "code",
   "execution_count": 105,
   "id": "367662dd",
   "metadata": {
    "ExecuteTime": {
     "end_time": "2024-09-25T01:00:53.562931Z",
     "start_time": "2024-09-25T01:00:53.138460Z"
    }
   },
   "outputs": [],
   "source": [
    "df.loc[df[\"Category\"] == \"spam\", \"Category\"] = 0\n",
    "df.loc[df[\"Category\"] == \"ham\", \"Category\"] = 1"
   ]
  },
  {
   "cell_type": "code",
   "execution_count": 106,
   "id": "9f8d2ac4",
   "metadata": {
    "ExecuteTime": {
     "end_time": "2024-09-25T01:00:53.594724Z",
     "start_time": "2024-09-25T01:00:53.141773Z"
    }
   },
   "outputs": [],
   "source": [
    "# Separate the feature (message) and target (category) data\n",
    "\n",
    "X = df[\"Message\"]\n",
    "Y = df[\"Category\"]"
   ]
  },
  {
   "cell_type": "code",
   "execution_count": 107,
   "id": "a2375cfe",
   "metadata": {
    "ExecuteTime": {
     "end_time": "2024-09-25T01:00:53.599757Z",
     "start_time": "2024-09-25T01:00:53.148Z"
    }
   },
   "outputs": [],
   "source": [
    "spam_words = \" \".join(df[df['Category'] == 0]['Message']).split()"
   ]
  },
  {
   "cell_type": "code",
   "execution_count": 108,
   "id": "7861f962",
   "metadata": {
    "ExecuteTime": {
     "end_time": "2024-09-25T01:00:53.617005Z",
     "start_time": "2024-09-25T01:00:53.150475Z"
    }
   },
   "outputs": [
    {
     "name": "stdout",
     "output_type": "stream",
     "text": [
      "True\n"
     ]
    }
   ],
   "source": [
    "import os\n",
    "\n",
    "# Check if the directory exists after renaming\n",
    "nltk_data_path = '/Users/sumanbhandari/Desktop/GitHubProjects/Spam Detector/notebook/data/nltk_data'\n",
    "print(os.path.exists(nltk_data_path))  # Should return True"
   ]
  },
  {
   "cell_type": "code",
   "execution_count": 109,
   "id": "0e9a6c96",
   "metadata": {
    "ExecuteTime": {
     "end_time": "2024-09-25T01:00:53.724693Z",
     "start_time": "2024-09-25T01:00:53.153137Z"
    }
   },
   "outputs": [
    {
     "name": "stdout",
     "output_type": "stream",
     "text": [
      "['greek.pickle', 'estonian.pickle', 'turkish.pickle', '.DS_Store', 'polish.pickle', 'PY3', 'russian.pickle', 'czech.pickle', 'portuguese.pickle', 'README', 'dutch.pickle', 'norwegian.pickle', 'malayalam.pickle', 'slovene.pickle', 'english.pickle', 'danish.pickle', 'finnish.pickle', 'swedish.pickle', 'spanish.pickle', 'german.pickle', 'italian.pickle', 'french.pickle']\n"
     ]
    },
    {
     "ename": "LookupError",
     "evalue": "\n**********************************************************************\n  Resource \u001B[93mpunkt_tab\u001B[0m not found.\n  Please use the NLTK Downloader to obtain the resource:\n\n  \u001B[31m>>> import nltk\n  >>> nltk.download('punkt_tab')\n  \u001B[0m\n  For more information see: https://www.nltk.org/data.html\n\n  Attempted to load \u001B[93mtokenizers/punkt_tab/english/\u001B[0m\n\n  Searched in:\n    - '/Users/sumanbhandari/nltk_data'\n    - '/Users/sumanbhandari/Desktop/GitHubProjects/Spam Detector/.venv/nltk_data'\n    - '/Users/sumanbhandari/Desktop/GitHubProjects/Spam Detector/.venv/share/nltk_data'\n    - '/Users/sumanbhandari/Desktop/GitHubProjects/Spam Detector/.venv/lib/nltk_data'\n    - '/usr/share/nltk_data'\n    - '/usr/local/share/nltk_data'\n    - '/usr/lib/nltk_data'\n    - '/usr/local/lib/nltk_data'\n    - '/Users/sumanbhandari/Desktop/GitHubProjects/Spam Detector/notebook/data/nltk_data'\n    - '/Users/sumanbhandari/Desktop/GitHubProjects/Spam Detector/notebook/data/nltk_data'\n    - '/Users/sumanbhandari/Desktop/GitHubProjects/Spam Detector/notebook/data/nltk_data'\n    - '/Users/sumanbhandari/Desktop/GitHubProjects/Spam Detector/notebook/data/nltk_data'\n    - '/Users/sumanbhandari/Desktop/GitHubProjects/Spam Detector/notebook/data/nltk_data'\n    - '/Users/sumanbhandari/Desktop/GitHubProjects/Spam Detector/notebook/data/nltk_data'\n    - '/Users/sumanbhandari/Desktop/GitHubProjects/Spam Detector/notebook/data/nltk_data'\n    - '/Users/sumanbhandari/Desktop/GitHubProjects/Spam Detector/notebook/data/nltk_data'\n    - '/Users/sumanbhandari/Desktop/GitHubProjects/Spam Detector/notebook/data/nltk_data'\n    - '/Users/sumanbhandari/Desktop/GitHubProjects/Spam Detector/notebook/data/nltk_data'\n**********************************************************************\n",
     "output_type": "error",
     "traceback": [
      "\u001B[0;31m---------------------------------------------------------------------------\u001B[0m",
      "\u001B[0;31mLookupError\u001B[0m                               Traceback (most recent call last)",
      "Cell \u001B[0;32mIn[109], line 12\u001B[0m\n\u001B[1;32m      9\u001B[0m \u001B[38;5;28;01mfrom\u001B[39;00m \u001B[38;5;21;01mnltk\u001B[39;00m\u001B[38;5;21;01m.\u001B[39;00m\u001B[38;5;21;01mtokenize\u001B[39;00m \u001B[38;5;28;01mimport\u001B[39;00m word_tokenize\n\u001B[1;32m     11\u001B[0m text \u001B[38;5;241m=\u001B[39m \u001B[38;5;124m\"\u001B[39m\u001B[38;5;124mThis is a sample sentence.\u001B[39m\u001B[38;5;124m\"\u001B[39m\n\u001B[0;32m---> 12\u001B[0m tokens \u001B[38;5;241m=\u001B[39m \u001B[43mword_tokenize\u001B[49m\u001B[43m(\u001B[49m\u001B[43mtext\u001B[49m\u001B[43m,\u001B[49m\u001B[43m \u001B[49m\u001B[43mlanguage\u001B[49m\u001B[38;5;241;43m=\u001B[39;49m\u001B[38;5;124;43m'\u001B[39;49m\u001B[38;5;124;43menglish\u001B[39;49m\u001B[38;5;124;43m'\u001B[39;49m\u001B[43m)\u001B[49m  \u001B[38;5;66;03m# Specify language\u001B[39;00m\n\u001B[1;32m     13\u001B[0m \u001B[38;5;28mprint\u001B[39m(tokens)\n",
      "File \u001B[0;32m~/Desktop/GitHubProjects/Spam Detector/.venv/lib/python3.12/site-packages/nltk/tokenize/__init__.py:142\u001B[0m, in \u001B[0;36mword_tokenize\u001B[0;34m(text, language, preserve_line)\u001B[0m\n\u001B[1;32m    127\u001B[0m \u001B[38;5;28;01mdef\u001B[39;00m \u001B[38;5;21mword_tokenize\u001B[39m(text, language\u001B[38;5;241m=\u001B[39m\u001B[38;5;124m\"\u001B[39m\u001B[38;5;124menglish\u001B[39m\u001B[38;5;124m\"\u001B[39m, preserve_line\u001B[38;5;241m=\u001B[39m\u001B[38;5;28;01mFalse\u001B[39;00m):\n\u001B[1;32m    128\u001B[0m \u001B[38;5;250m    \u001B[39m\u001B[38;5;124;03m\"\"\"\u001B[39;00m\n\u001B[1;32m    129\u001B[0m \u001B[38;5;124;03m    Return a tokenized copy of *text*,\u001B[39;00m\n\u001B[1;32m    130\u001B[0m \u001B[38;5;124;03m    using NLTK's recommended word tokenizer\u001B[39;00m\n\u001B[0;32m   (...)\u001B[0m\n\u001B[1;32m    140\u001B[0m \u001B[38;5;124;03m    :type preserve_line: bool\u001B[39;00m\n\u001B[1;32m    141\u001B[0m \u001B[38;5;124;03m    \"\"\"\u001B[39;00m\n\u001B[0;32m--> 142\u001B[0m     sentences \u001B[38;5;241m=\u001B[39m [text] \u001B[38;5;28;01mif\u001B[39;00m preserve_line \u001B[38;5;28;01melse\u001B[39;00m \u001B[43msent_tokenize\u001B[49m\u001B[43m(\u001B[49m\u001B[43mtext\u001B[49m\u001B[43m,\u001B[49m\u001B[43m \u001B[49m\u001B[43mlanguage\u001B[49m\u001B[43m)\u001B[49m\n\u001B[1;32m    143\u001B[0m     \u001B[38;5;28;01mreturn\u001B[39;00m [\n\u001B[1;32m    144\u001B[0m         token \u001B[38;5;28;01mfor\u001B[39;00m sent \u001B[38;5;129;01min\u001B[39;00m sentences \u001B[38;5;28;01mfor\u001B[39;00m token \u001B[38;5;129;01min\u001B[39;00m _treebank_word_tokenizer\u001B[38;5;241m.\u001B[39mtokenize(sent)\n\u001B[1;32m    145\u001B[0m     ]\n",
      "File \u001B[0;32m~/Desktop/GitHubProjects/Spam Detector/.venv/lib/python3.12/site-packages/nltk/tokenize/__init__.py:119\u001B[0m, in \u001B[0;36msent_tokenize\u001B[0;34m(text, language)\u001B[0m\n\u001B[1;32m    109\u001B[0m \u001B[38;5;28;01mdef\u001B[39;00m \u001B[38;5;21msent_tokenize\u001B[39m(text, language\u001B[38;5;241m=\u001B[39m\u001B[38;5;124m\"\u001B[39m\u001B[38;5;124menglish\u001B[39m\u001B[38;5;124m\"\u001B[39m):\n\u001B[1;32m    110\u001B[0m \u001B[38;5;250m    \u001B[39m\u001B[38;5;124;03m\"\"\"\u001B[39;00m\n\u001B[1;32m    111\u001B[0m \u001B[38;5;124;03m    Return a sentence-tokenized copy of *text*,\u001B[39;00m\n\u001B[1;32m    112\u001B[0m \u001B[38;5;124;03m    using NLTK's recommended sentence tokenizer\u001B[39;00m\n\u001B[0;32m   (...)\u001B[0m\n\u001B[1;32m    117\u001B[0m \u001B[38;5;124;03m    :param language: the model name in the Punkt corpus\u001B[39;00m\n\u001B[1;32m    118\u001B[0m \u001B[38;5;124;03m    \"\"\"\u001B[39;00m\n\u001B[0;32m--> 119\u001B[0m     tokenizer \u001B[38;5;241m=\u001B[39m \u001B[43m_get_punkt_tokenizer\u001B[49m\u001B[43m(\u001B[49m\u001B[43mlanguage\u001B[49m\u001B[43m)\u001B[49m\n\u001B[1;32m    120\u001B[0m     \u001B[38;5;28;01mreturn\u001B[39;00m tokenizer\u001B[38;5;241m.\u001B[39mtokenize(text)\n",
      "File \u001B[0;32m~/Desktop/GitHubProjects/Spam Detector/.venv/lib/python3.12/site-packages/nltk/tokenize/__init__.py:105\u001B[0m, in \u001B[0;36m_get_punkt_tokenizer\u001B[0;34m(language)\u001B[0m\n\u001B[1;32m     96\u001B[0m \u001B[38;5;129m@functools\u001B[39m\u001B[38;5;241m.\u001B[39mlru_cache\n\u001B[1;32m     97\u001B[0m \u001B[38;5;28;01mdef\u001B[39;00m \u001B[38;5;21m_get_punkt_tokenizer\u001B[39m(language\u001B[38;5;241m=\u001B[39m\u001B[38;5;124m\"\u001B[39m\u001B[38;5;124menglish\u001B[39m\u001B[38;5;124m\"\u001B[39m):\n\u001B[1;32m     98\u001B[0m \u001B[38;5;250m    \u001B[39m\u001B[38;5;124;03m\"\"\"\u001B[39;00m\n\u001B[1;32m     99\u001B[0m \u001B[38;5;124;03m    A constructor for the PunktTokenizer that utilizes\u001B[39;00m\n\u001B[1;32m    100\u001B[0m \u001B[38;5;124;03m    a lru cache for performance.\u001B[39;00m\n\u001B[0;32m   (...)\u001B[0m\n\u001B[1;32m    103\u001B[0m \u001B[38;5;124;03m    :type language: str\u001B[39;00m\n\u001B[1;32m    104\u001B[0m \u001B[38;5;124;03m    \"\"\"\u001B[39;00m\n\u001B[0;32m--> 105\u001B[0m     \u001B[38;5;28;01mreturn\u001B[39;00m \u001B[43mPunktTokenizer\u001B[49m\u001B[43m(\u001B[49m\u001B[43mlanguage\u001B[49m\u001B[43m)\u001B[49m\n",
      "File \u001B[0;32m~/Desktop/GitHubProjects/Spam Detector/.venv/lib/python3.12/site-packages/nltk/tokenize/punkt.py:1744\u001B[0m, in \u001B[0;36mPunktTokenizer.__init__\u001B[0;34m(self, lang)\u001B[0m\n\u001B[1;32m   1742\u001B[0m \u001B[38;5;28;01mdef\u001B[39;00m \u001B[38;5;21m__init__\u001B[39m(\u001B[38;5;28mself\u001B[39m, lang\u001B[38;5;241m=\u001B[39m\u001B[38;5;124m\"\u001B[39m\u001B[38;5;124menglish\u001B[39m\u001B[38;5;124m\"\u001B[39m):\n\u001B[1;32m   1743\u001B[0m     PunktSentenceTokenizer\u001B[38;5;241m.\u001B[39m\u001B[38;5;21m__init__\u001B[39m(\u001B[38;5;28mself\u001B[39m)\n\u001B[0;32m-> 1744\u001B[0m     \u001B[38;5;28;43mself\u001B[39;49m\u001B[38;5;241;43m.\u001B[39;49m\u001B[43mload_lang\u001B[49m\u001B[43m(\u001B[49m\u001B[43mlang\u001B[49m\u001B[43m)\u001B[49m\n",
      "File \u001B[0;32m~/Desktop/GitHubProjects/Spam Detector/.venv/lib/python3.12/site-packages/nltk/tokenize/punkt.py:1749\u001B[0m, in \u001B[0;36mPunktTokenizer.load_lang\u001B[0;34m(self, lang)\u001B[0m\n\u001B[1;32m   1746\u001B[0m \u001B[38;5;28;01mdef\u001B[39;00m \u001B[38;5;21mload_lang\u001B[39m(\u001B[38;5;28mself\u001B[39m, lang\u001B[38;5;241m=\u001B[39m\u001B[38;5;124m\"\u001B[39m\u001B[38;5;124menglish\u001B[39m\u001B[38;5;124m\"\u001B[39m):\n\u001B[1;32m   1747\u001B[0m     \u001B[38;5;28;01mfrom\u001B[39;00m \u001B[38;5;21;01mnltk\u001B[39;00m\u001B[38;5;21;01m.\u001B[39;00m\u001B[38;5;21;01mdata\u001B[39;00m \u001B[38;5;28;01mimport\u001B[39;00m find\n\u001B[0;32m-> 1749\u001B[0m     lang_dir \u001B[38;5;241m=\u001B[39m \u001B[43mfind\u001B[49m\u001B[43m(\u001B[49m\u001B[38;5;124;43mf\u001B[39;49m\u001B[38;5;124;43m\"\u001B[39;49m\u001B[38;5;124;43mtokenizers/punkt_tab/\u001B[39;49m\u001B[38;5;132;43;01m{\u001B[39;49;00m\u001B[43mlang\u001B[49m\u001B[38;5;132;43;01m}\u001B[39;49;00m\u001B[38;5;124;43m/\u001B[39;49m\u001B[38;5;124;43m\"\u001B[39;49m\u001B[43m)\u001B[49m\n\u001B[1;32m   1750\u001B[0m     \u001B[38;5;28mself\u001B[39m\u001B[38;5;241m.\u001B[39m_params \u001B[38;5;241m=\u001B[39m load_punkt_params(lang_dir)\n\u001B[1;32m   1751\u001B[0m     \u001B[38;5;28mself\u001B[39m\u001B[38;5;241m.\u001B[39m_lang \u001B[38;5;241m=\u001B[39m lang\n",
      "File \u001B[0;32m~/Desktop/GitHubProjects/Spam Detector/.venv/lib/python3.12/site-packages/nltk/data.py:579\u001B[0m, in \u001B[0;36mfind\u001B[0;34m(resource_name, paths)\u001B[0m\n\u001B[1;32m    577\u001B[0m sep \u001B[38;5;241m=\u001B[39m \u001B[38;5;124m\"\u001B[39m\u001B[38;5;124m*\u001B[39m\u001B[38;5;124m\"\u001B[39m \u001B[38;5;241m*\u001B[39m \u001B[38;5;241m70\u001B[39m\n\u001B[1;32m    578\u001B[0m resource_not_found \u001B[38;5;241m=\u001B[39m \u001B[38;5;124mf\u001B[39m\u001B[38;5;124m\"\u001B[39m\u001B[38;5;130;01m\\n\u001B[39;00m\u001B[38;5;132;01m{\u001B[39;00msep\u001B[38;5;132;01m}\u001B[39;00m\u001B[38;5;130;01m\\n\u001B[39;00m\u001B[38;5;132;01m{\u001B[39;00mmsg\u001B[38;5;132;01m}\u001B[39;00m\u001B[38;5;130;01m\\n\u001B[39;00m\u001B[38;5;132;01m{\u001B[39;00msep\u001B[38;5;132;01m}\u001B[39;00m\u001B[38;5;130;01m\\n\u001B[39;00m\u001B[38;5;124m\"\u001B[39m\n\u001B[0;32m--> 579\u001B[0m \u001B[38;5;28;01mraise\u001B[39;00m \u001B[38;5;167;01mLookupError\u001B[39;00m(resource_not_found)\n",
      "\u001B[0;31mLookupError\u001B[0m: \n**********************************************************************\n  Resource \u001B[93mpunkt_tab\u001B[0m not found.\n  Please use the NLTK Downloader to obtain the resource:\n\n  \u001B[31m>>> import nltk\n  >>> nltk.download('punkt_tab')\n  \u001B[0m\n  For more information see: https://www.nltk.org/data.html\n\n  Attempted to load \u001B[93mtokenizers/punkt_tab/english/\u001B[0m\n\n  Searched in:\n    - '/Users/sumanbhandari/nltk_data'\n    - '/Users/sumanbhandari/Desktop/GitHubProjects/Spam Detector/.venv/nltk_data'\n    - '/Users/sumanbhandari/Desktop/GitHubProjects/Spam Detector/.venv/share/nltk_data'\n    - '/Users/sumanbhandari/Desktop/GitHubProjects/Spam Detector/.venv/lib/nltk_data'\n    - '/usr/share/nltk_data'\n    - '/usr/local/share/nltk_data'\n    - '/usr/lib/nltk_data'\n    - '/usr/local/lib/nltk_data'\n    - '/Users/sumanbhandari/Desktop/GitHubProjects/Spam Detector/notebook/data/nltk_data'\n    - '/Users/sumanbhandari/Desktop/GitHubProjects/Spam Detector/notebook/data/nltk_data'\n    - '/Users/sumanbhandari/Desktop/GitHubProjects/Spam Detector/notebook/data/nltk_data'\n    - '/Users/sumanbhandari/Desktop/GitHubProjects/Spam Detector/notebook/data/nltk_data'\n    - '/Users/sumanbhandari/Desktop/GitHubProjects/Spam Detector/notebook/data/nltk_data'\n    - '/Users/sumanbhandari/Desktop/GitHubProjects/Spam Detector/notebook/data/nltk_data'\n    - '/Users/sumanbhandari/Desktop/GitHubProjects/Spam Detector/notebook/data/nltk_data'\n    - '/Users/sumanbhandari/Desktop/GitHubProjects/Spam Detector/notebook/data/nltk_data'\n    - '/Users/sumanbhandari/Desktop/GitHubProjects/Spam Detector/notebook/data/nltk_data'\n    - '/Users/sumanbhandari/Desktop/GitHubProjects/Spam Detector/notebook/data/nltk_data'\n**********************************************************************\n"
     ]
    }
   ],
   "source": [
    "import nltk\n",
    "import os\n",
    "\n",
    "nltk.data.path.append('/Users/sumanbhandari/Desktop/GitHubProjects/Spam Detector/notebook/data/nltk_data')\n",
    "\n",
    "# Verify if the path is correct\n",
    "print(os.listdir('/Users/sumanbhandari/Desktop/GitHubProjects/Spam Detector/notebook/data/nltk_data/tokenizers/punkt'))\n",
    "\n",
    "from nltk.tokenize import word_tokenize\n",
    "\n",
    "text = \"This is a sample sentence.\"\n",
    "tokens = word_tokenize(text, language='english')  # Specify language\n",
    "print(tokens)\n"
   ]
  },
  {
   "cell_type": "code",
   "execution_count": null,
   "id": "07615184",
   "metadata": {
    "ExecuteTime": {
     "start_time": "2024-09-25T01:00:53.470344Z"
    }
   },
   "outputs": [],
   "source": [
    "\n",
    "\n",
    "\n",
    "import nltk\n",
    "\n",
    "# Set the NLTK data path to the directory where you placed the punkt dataset\n",
    "nltk.data.path.append('/Users/sumanbhandari/Desktop/GitHubProjects/Spam Detector/data/nltk_data')\n",
    "\n",
    "# Now you can use word_tokenize without downloading it again\n",
    "from nltk.tokenize import word_tokenize\n",
    "\n",
    "# Example usage\n",
    "text = \"This is a sample sentence.\"\n",
    "tokens = word_tokenize(text)\n",
    "print(tokens)\n",
    "\n"
   ]
  },
  {
   "cell_type": "code",
   "outputs": [],
   "source": [
    "import os\n",
    "import nltk\n",
    "\n",
    "# Set the NLTK data path to the correct directory\n",
    "nltk_data_path = '/Users/sumanbhandari/Desktop/GitHubProjects/Spam Detector/notebook/data/nltk_data'\n",
    "nltk.data.path.append(nltk_data_path)\n",
    "\n",
    "# Check if the directory exists and list its contents\n",
    "print(os.listdir(nltk_data_path))  # List contents of the directory\n",
    "\n"
   ],
   "metadata": {
    "ExecuteTime": {
     "start_time": "2024-09-25T01:00:53.473583Z"
    }
   },
   "id": "a533bd53",
   "execution_count": null
  },
  {
   "cell_type": "code",
   "execution_count": null,
   "id": "9b8653f2",
   "metadata": {
    "ExecuteTime": {
     "start_time": "2024-09-25T01:00:53.475328Z"
    }
   },
   "outputs": [],
   "source": [
    "\n",
    "\n",
    "# List of stop words from  friend\n",
    "stop_words = set([\n",
    "    \"i\", \"me\", \"my\", \"myself\", \"we\", \"our\", \"ours\", \"ourselves\", \"you\", \n",
    "    \"your\", \"yours\", \"yourself\", \"yourselves\", \"he\", \"him\", \"his\", \n",
    "    \"himself\", \"she\", \"her\", \"hers\", \"herself\", \"it\", \"its\", \"itself\", \n",
    "    \"they\", \"them\", \"their\", \"theirs\", \"themselves\", \"what\", \"which\", \n",
    "    \"who\", \"whom\", \"this\", \"that\", \"these\", \"those\", \"am\", \"is\", \"are\", \n",
    "    \"was\", \"were\", \"be\", \"been\", \"being\", \"have\", \"has\", \"had\", \"having\", \n",
    "    \"do\", \"does\", \"did\", \"doing\", \"a\", \"an\", \"the\", \"and\", \"but\", \"if\", \n",
    "    \"or\", \"because\", \"as\", \"until\", \"while\", \"of\", \"at\", \"by\", \"for\", \n",
    "    \"with\", \"about\", \"against\", \"between\", \"into\", \"through\", \"during\", \n",
    "    \"before\", \"after\", \"above\", \"below\", \"to\", \"from\", \"up\", \"down\", \n",
    "    \"in\", \"out\", \"on\", \"off\", \"over\", \"under\", \"again\", \"further\", \"then\", \n",
    "    \"once\", \"here\", \"there\", \"when\", \"where\", \"why\", \"how\", \"all\", \"any\", \n",
    "    \"both\", \"each\", \"few\", \"more\", \"most\", \"other\", \"some\", \"such\", \"no\", \n",
    "    \"nor\", \"not\", \"only\", \"own\", \"same\", \"so\", \"than\", \"too\", \"very\", \n",
    "    \"s\", \"t\", \"can\", \"will\", \"just\", \"don\", \"should\", \"now\", \"d\", \"ll\", \n",
    "    \"m\", \"o\", \"re\", \"ve\", \"y\", \"ain\", \"aren\", \"couldn\", \"didn\", \"doesn\", \n",
    "    \"hadn\", \"hasn\", \"haven\", \"isn\", \"ma\", \"mightn\", \"mustn\", \"needn\", \n",
    "    \"shan\", \"shouldn\", \"wasn\", \"weren\", \"won\", \"wouldn\"\n",
    "])\n",
    "\n",
    "# Tokenize and remove stop words from spam_words\n",
    "tokens = word_tokenize(\" \".join(spam_words))  # Ensure `spam_words` is defined\n",
    "filtered_tokens = [word for word in tokens if word.lower() not in stop_words]\n",
    "\n",
    "# Printing or using filtered_tokens as needed\n",
    "print(filtered_tokens)\n"
   ]
  },
  {
   "cell_type": "code",
   "execution_count": null,
   "id": "bdd39559",
   "metadata": {
    "ExecuteTime": {
     "start_time": "2024-09-25T01:00:53.477955Z"
    }
   },
   "outputs": [],
   "source": [
    "filtered_word_freq = Counter([word.lower() for word in filtered_tokens if word.lower() not in stop_words and word.isalpha()])\n",
    "\n",
    "# Plot the top 10 most common words\n",
    "plt.figure(figsize=(10, 6))\n",
    "plt.bar(*zip(*filtered_word_freq.most_common(10)), color='b')\n",
    "plt.xlabel('Words')\n",
    "plt.ylabel('Frequency')\n",
    "plt.title('Top 10 Most Common Words in Spam Emails')\n",
    "plt.xticks(rotation=45)\n",
    "plt.show()\n"
   ]
  },
  {
   "cell_type": "markdown",
   "id": "8f91ed2d",
   "metadata": {},
   "source": [
    "Training the ML Models"
   ]
  },
  {
   "cell_type": "code",
   "execution_count": null,
   "id": "64ed77fe",
   "metadata": {
    "ExecuteTime": {
     "start_time": "2024-09-25T01:00:53.481078Z"
    }
   },
   "outputs": [],
   "source": [
    "print(X)"
   ]
  },
  {
   "cell_type": "code",
   "execution_count": null,
   "id": "d977c582",
   "metadata": {
    "ExecuteTime": {
     "start_time": "2024-09-25T01:00:53.484482Z"
    }
   },
   "outputs": [],
   "source": [
    "print(Y)"
   ]
  },
  {
   "cell_type": "code",
   "execution_count": null,
   "id": "d8e3bf60",
   "metadata": {
    "ExecuteTime": {
     "start_time": "2024-09-25T01:00:53.487068Z"
    }
   },
   "outputs": [],
   "source": [
    "X_train, X_test, Y_train, Y_test = train_test_split(X, Y, test_size = 0.2, random_state = 3)"
   ]
  },
  {
   "cell_type": "code",
   "execution_count": null,
   "id": "66ce88a4",
   "metadata": {
    "ExecuteTime": {
     "start_time": "2024-09-25T01:00:53.490540Z"
    }
   },
   "outputs": [],
   "source": [
    "# Print the shape of X_train and X_test\n",
    "print(X_train.shape)\n",
    "print(X_test.shape)"
   ]
  },
  {
   "cell_type": "code",
   "execution_count": null,
   "id": "f464c802",
   "metadata": {
    "ExecuteTime": {
     "start_time": "2024-09-25T01:00:53.494717Z"
    }
   },
   "outputs": [],
   "source": [
    "# Initialize TF-IDF Vectorizer\n",
    "feature_extraction = TfidfVectorizer(min_df=1, stop_words=\"english\", lowercase=True)"
   ]
  },
  {
   "cell_type": "code",
   "execution_count": null,
   "id": "9d8083d3",
   "metadata": {
    "ExecuteTime": {
     "start_time": "2024-09-25T01:00:53.497569Z"
    }
   },
   "outputs": [],
   "source": [
    "# Feature extraction for training and testing data\n",
    "X_train_features = feature_extraction.fit_transform(X_train)\n",
    "X_test_features = feature_extraction.transform(X_test)"
   ]
  },
  {
   "cell_type": "code",
   "execution_count": null,
   "id": "e22bfb25",
   "metadata": {
    "ExecuteTime": {
     "start_time": "2024-09-25T01:00:53.500471Z"
    }
   },
   "outputs": [],
   "source": [
    "# Convert Y_train and Y_test to integer type\n",
    "Y_train = Y_train.astype(\"int\")\n",
    "Y_test = Y_test.astype(\"int\")"
   ]
  },
  {
   "cell_type": "markdown",
   "source": [
    "Model Selection"
   ],
   "metadata": {},
   "id": "079b444c"
  },
  {
   "cell_type": "markdown",
   "id": "0e9e4d3e",
   "metadata": {},
   "source": [
    "#  Create and Fit Logistic Regression Model\n"
   ]
  },
  {
   "cell_type": "code",
   "outputs": [],
   "source": [],
   "metadata": {
    "ExecuteTime": {
     "start_time": "2024-09-25T01:00:53.502388Z"
    }
   },
   "id": "ec27b2e6",
   "execution_count": null
  },
  {
   "cell_type": "code",
   "execution_count": null,
   "id": "bc936577",
   "metadata": {
    "ExecuteTime": {
     "start_time": "2024-09-25T01:00:53.504290Z"
    }
   },
   "outputs": [],
   "source": []
  },
  {
   "cell_type": "code",
   "execution_count": null,
   "id": "5f526409",
   "metadata": {
    "ExecuteTime": {
     "start_time": "2024-09-25T01:00:53.506024Z"
    }
   },
   "outputs": [],
   "source": [
    "#Model Evaluation\n",
    "from sklearn.metrics import accuracy_score,confusion_matrix\n",
    "accuracy_train_data=accuracy_score(Y_train,predict_train_data)\n",
    "print(\"Accuracy on training data: \",accuracy_train_data)"
   ]
  },
  {
   "cell_type": "code",
   "execution_count": null,
   "id": "b03a5670",
   "metadata": {
    "ExecuteTime": {
     "start_time": "2024-09-25T01:00:53.508666Z"
    }
   },
   "outputs": [],
   "source": [
    "# Make predictions on the testing data\n",
    "predict_test_data=model.predict(X_test_features)"
   ]
  },
  {
   "cell_type": "code",
   "execution_count": null,
   "id": "b98b5cfb",
   "metadata": {
    "ExecuteTime": {
     "start_time": "2024-09-25T01:00:53.510140Z"
    }
   },
   "outputs": [],
   "source": [
    "#Model Evaluation\n",
    "accuracy_test_data=accuracy_score(Y_test,predict_test_data)\n",
    "print(\"acuuracy on test data: \",accuracy_test_data)"
   ]
  },
  {
   "cell_type": "markdown",
   "id": "0ce4a550",
   "metadata": {},
   "source": [
    "Testing the model with an email messages"
   ]
  },
  {
   "cell_type": "code",
   "execution_count": null,
   "id": "db0b541a",
   "metadata": {
    "ExecuteTime": {
     "start_time": "2024-09-25T01:00:53.513647Z"
    }
   },
   "outputs": [],
   "source": [
    "new_mail=[\"Congratulations, you got admitted to NKU for the Fall 2024 for Bachelors in Data Science\"]\n",
    "new_data_features=feature_extraction.transform(new_mail)\n",
    "prediction=model.predict(new_data_features)\n",
    "print(prediction)\n",
    "\n",
    "if(prediction[0]==1):\n",
    "    print(\"Ham Mail\")\n",
    "else:\n",
    "    print(\"Spam Mail\")"
   ]
  },
  {
   "cell_type": "markdown",
   "id": "b0de12d3",
   "metadata": {},
   "source": [
    "# Confusion matrix is used to represent the accuracy of classification models. It is used on a set of test data where true values are known. It displays true positive, true negative, false positive and false negative numbers.\n",
    "# confusion_matrix(Y_test, predict_test_data): This function computes the confusion matrix using the true labels (Y_test) and the predicted labels (predict_test_data).\n",
    " # plt.figure(figsize=(6, 4)): It Establishes the size of the figure where the heatmap will be plotted.\n",
    "#  sns.heatmap(): It draws a heatmap using Seaborn, visualizing the confusion matrix with annotations (annot=True) and a specific format (fmt=\"d\" for integer format).\n",
    " # plt.xlabel, plt.ylabel, plt.title: They label the heatmap with appropriate axis labels and a title.\n",
    "# plt.show(): It displays the generated heatmap.\n"
   ]
  },
  {
   "cell_type": "code",
   "execution_count": null,
   "id": "d553d8a3",
   "metadata": {
    "scrolled": false,
    "ExecuteTime": {
     "start_time": "2024-09-25T01:00:53.518579Z"
    }
   },
   "outputs": [],
   "source": [
    "conf_matrix=confusion_matrix(Y_test,predict_test_data)\n",
    "plt.figure(figsize=(6,4))\n",
    "sns.heatmap(conf_matrix,annot=True,fmt=\"d\",cmap=\"Oranges\",cbar=False)\n",
    "plt.xlabel(\"Predicted value\")\n",
    "plt.ylabel(\"Actual value\")\n",
    "plt.title(\"Confusion Matrix\")\n",
    "plt.show()"
   ]
  },
  {
   "cell_type": "markdown",
   "id": "8046f2fc",
   "metadata": {},
   "source": [
    "Neural Network"
   ]
  },
  {
   "cell_type": "markdown",
   "id": "c39884eb",
   "metadata": {},
   "source": [
    "# Neural networks, such as the MLP Classifier used here, comprise interconnected layers of neurons facilitating complex computations. These networks process data through multiple hidden layers, employing activation functions for forward propagation. Model error is computed from the predicted output, followed by backpropagation—a process adjusting network weights to minimize error. This iterative process aims to optimize the model's performance by learning and adapting to data patterns, enhancing accuracy in classification tasks.\n",
    "# A neural network known as MLP(Multi-Layer-Perceptron) is utilized for classification tasks."
   ]
  },
  {
   "cell_type": "code",
   "execution_count": null,
   "id": "8d3fc8b3",
   "metadata": {
    "scrolled": true,
    "ExecuteTime": {
     "start_time": "2024-09-25T01:00:53.522066Z"
    }
   },
   "outputs": [],
   "source": [
    "mlp_classifier_model = MLPClassifier(hidden_layer_sizes=(100, 50), max_iter=1000) \n",
    "mlp_classifier_model.fit(X_train_features, Y_train)  \n",
    "\n",
    "prediction = mlp_classifier_model.predict(X_test_features)\n",
    "\n",
    "# Calculate and print classification metrics\n",
    "print(\"MLP Classifier\")\n",
    "print(\"Accuracy score: {:.2f}\".format(accuracy_score(Y_test, prediction)))\n",
    "print(\"Precision score: {:.2f}\".format(precision_score(Y_test, prediction)))\n",
    "print(\"Recall score: {:.2f}\".format(recall_score(Y_test, prediction)))\n",
    "print(\"F1 score: {:.2f}\".format(f1_score(Y_test, prediction)))"
   ]
  },
  {
   "cell_type": "markdown",
   "id": "c99b2b01",
   "metadata": {},
   "source": [
    "Multinomial Naive Bayes"
   ]
  },
  {
   "cell_type": "markdown",
   "id": "775cbd32",
   "metadata": {},
   "source": [
    "# A Multinomial Naive Bayes is used for classification purpose. It's a probabilistic classification method based on Bayes theorem designed for features like count or frequencies. It calculates probability for different model based on word count or frequencies in text. It is favored for text classification as it performs well with data sets with high dimensionality.\n",
    "# 1st Multinomial Naive Bayes classifier is initialized and is trained using the feature X_train_features. Utilizing the trained model, prediction is done for the test data."
   ]
  },
  {
   "cell_type": "code",
   "execution_count": null,
   "id": "26979cbd",
   "metadata": {
    "ExecuteTime": {
     "start_time": "2024-09-25T01:00:53.524728Z"
    }
   },
   "outputs": [],
   "source": []
  },
  {
   "cell_type": "code",
   "execution_count": null,
   "id": "e3b6cc35",
   "metadata": {
    "scrolled": true,
    "ExecuteTime": {
     "start_time": "2024-09-25T01:00:53.526377Z"
    }
   },
   "outputs": [],
   "source": [
    "multinomial_nb_model = MultinomialNB()\n",
    "multinomial_nb_model.fit(X_train_features, Y_train)  # Train the model\n",
    "\n",
    "prediction = multinomial_nb_model.predict(X_test_features)\n",
    "\n",
    "print(\"Multinomial NB\")\n",
    "print(\"Accuracy score: {}\". format(accuracy_score(Y_test, prediction)) )\n",
    "print(\"Precision score: {}\". format(precision_score(Y_test, prediction)) )\n",
    "print(\"Recall score: {}\". format(recall_score(Y_test, prediction)))\n",
    "print(\"F1 score: {}\". format(f1_score(Y_test, prediction)))"
   ]
  },
  {
   "cell_type": "code",
   "execution_count": null,
   "id": "6dc91825",
   "metadata": {
    "ExecuteTime": {
     "start_time": "2024-09-25T01:00:53.530227Z"
    }
   },
   "outputs": [],
   "source": [
    "# save the trained model\n",
    "import joblib\n",
    "joblib.dump(multinomial_nb_model, '../model/spam_detector.sav')"
   ]
  },
  {
   "cell_type": "code",
   "execution_count": null,
   "id": "473532cd",
   "metadata": {
    "ExecuteTime": {
     "start_time": "2024-09-25T01:00:53.535278Z"
    }
   },
   "outputs": [],
   "source": [
    "import os\n",
    "print(os.getcwd())"
   ]
  },
  {
   "cell_type": "markdown",
   "id": "491bdb4c",
   "metadata": {},
   "source": [
    "Bernoulli Naive Bayes"
   ]
  },
  {
   "cell_type": "markdown",
   "id": "f60f2ba2",
   "metadata": {},
   "source": [
    "# A Bernouli Naive Bayes is also used for classification purpose.\n",
    "# Bernouli Naive Bayes is used for classification of binary features like 'Yes' or 'No', '1' or '0',etc. It calculates probabilities for different class labels by looking whether specific words are present or not. Features are independent of each other. Difference between Bernouli Naive Bayes and Multinomial Naive Bayes is that Bernouli Naive Bayes is used for classification of binary features like '0' or '1' whereas Multinomial Naive Bayes is used for features that represents count or frequencies. \n",
    "# 1st Bernouli Naive Bayes classifier is initialized and is trained using the feature X_train_features. Utilizing the trained model, prediction is done for the test data."
   ]
  },
  {
   "cell_type": "code",
   "execution_count": null,
   "id": "af07499f",
   "metadata": {
    "ExecuteTime": {
     "start_time": "2024-09-25T01:00:53.536566Z"
    }
   },
   "outputs": [],
   "source": [
    "bernoulli_nb_model = BernoulliNB()\n",
    "bernoulli_nb_model.fit(X_train_features, Y_train)\n",
    "\n",
    "prediction = bernoulli_nb_model.predict(X_test_features)\n",
    "\n",
    "#Evaluation\n",
    "print(\"Bernoulli NB\")\n",
    "print(\"Accuracy score: {}\". format(accuracy_score(Y_test, prediction)) )\n",
    "print(\"Precision score: {}\". format(precision_score(Y_test, prediction)) )\n",
    "print(\"Recall score: {}\". format(recall_score(Y_test, prediction)))\n",
    "print(\"F1 score: {}\". format(f1_score(Y_test, prediction)))"
   ]
  },
  {
   "cell_type": "markdown",
   "id": "20ac725b",
   "metadata": {},
   "source": [
    "Confusion Matrix"
   ]
  },
  {
   "cell_type": "code",
   "execution_count": null,
   "id": "885ab57b",
   "metadata": {
    "ExecuteTime": {
     "start_time": "2024-09-25T01:00:53.537475Z"
    }
   },
   "outputs": [],
   "source": [
    "#Confusion Matrix Subplot for 3 Models\n",
    "from sklearn.metrics import confusion_matrix\n",
    "models = [(\"Multinomial NB\", multinomial_nb_model), (\"Bernoulli NB\", bernoulli_nb_model),(\"MLP Classifier\", mlp_classifier_model) ]\n",
    "\n",
    "fig, axes = plt.subplots(1, 3, figsize=(10, 3))\n",
    "for i, (model_name, model) in enumerate(models):\n",
    "    prediction = model.predict(X_test_features)\n",
    "    cm = confusion_matrix(Y_test, prediction)\n",
    "    sns.heatmap(cm, annot=True, fmt=\"d\", cmap=\"Blues\", cbar=False, ax=axes[i])\n",
    "    axes[i].set_title(f\"{model_name} - Confusion Matrix\")\n",
    "    axes[i].set_xlabel(\"Predicted\")\n",
    "    axes[i].set_ylabel(\"Actual\")\n",
    "plt.tight_layout()\n",
    "plt.show()"
   ]
  },
  {
   "cell_type": "markdown",
   "id": "4cd6d30e",
   "metadata": {},
   "source": [
    "Metric Comparision Heatmap"
   ]
  },
  {
   "cell_type": "markdown",
   "id": "5d9e1def",
   "metadata": {},
   "source": [
    "# It allows comparision of different models based on multiple evaluation metrics easily. Color intensity on heat map represents performance of each model where high score (1 or closest to 1 values )are represented with bright colors. All three models have similiar kind of performance in this case with slight difference."
   ]
  },
  {
   "cell_type": "code",
   "execution_count": null,
   "id": "e8090e83",
   "metadata": {
    "ExecuteTime": {
     "start_time": "2024-09-25T01:00:53.539072Z"
    }
   },
   "outputs": [],
   "source": [
    "#Metric Comparison Heatmap\n",
    "metric_data = []\n",
    "for model_name, model in models:\n",
    "    prediction = model.predict(X_test_features)\n",
    "    accuracy = accuracy_score(Y_test, prediction)\n",
    "    precision = precision_score(Y_test, prediction)\n",
    "    recall = recall_score(Y_test, prediction)\n",
    "    f1 = f1_score(Y_test, prediction)\n",
    "    metric_data.append([accuracy, precision, recall, f1])\n",
    "metric_labels = [\"Accuracy\", \"Precision\", \"Recall\", \"F1 Score\"]\n",
    "#heatmap for metric comparison\n",
    "plt.figure(figsize=(6, 3))\n",
    "sns.heatmap(metric_data, annot=True, fmt=\".2f\", cbar=False, cmap=\"summer_r\", xticklabels=metric_labels, yticklabels=[model_name for model_name, _ in models])\n",
    "plt.title(\"Metric Comparison\")\n",
    "plt.yticks(rotation=0)\n",
    "plt.xlabel(\"Metrics\")\n",
    "plt.ylabel(\"Models\")\n",
    "plt.tight_layout()\n",
    "plt.show()\n"
   ]
  },
  {
   "cell_type": "markdown",
   "id": "48de880b",
   "metadata": {},
   "source": [
    "\n",
    "All three models perform exceptionally well, with high accuracy scores.\n",
    "\n",
    "The final choice of model always depend upon what is needed to be filtered & hence model can be adjusted to improve recall or precision.\n",
    "\n",
    "If you want to minimize the number of false negatives i.e spam messages don't end up in the user's inbox you would like to have high Recall.\n",
    "On the other hand with high precision(false negatives), one might miss important messages because the model is overly cautious in classifying messages as spam."
   ]
  },
  {
   "cell_type": "code",
   "outputs": [],
   "source": [],
   "metadata": {
    "collapsed": false,
    "ExecuteTime": {
     "start_time": "2024-09-25T01:00:53.540131Z"
    }
   },
   "id": "7b7e6918747fb388",
   "execution_count": null
  }
 ],
 "metadata": {
  "kernelspec": {
   "display_name": "Python 3 (ipykernel)",
   "language": "python",
   "name": "python3"
  },
  "language_info": {
   "codemirror_mode": {
    "name": "ipython",
    "version": 3
   },
   "file_extension": ".py",
   "mimetype": "text/x-python",
   "name": "python",
   "nbconvert_exporter": "python",
   "pygments_lexer": "ipython3",
   "version": "3.12.0"
  }
 },
 "nbformat": 4,
 "nbformat_minor": 5
}
